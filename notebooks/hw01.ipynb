{
  "cells": [
    {
      "cell_type": "markdown",
      "metadata": {},
      "source": [
        "# DATASCI 101: Homework 02\n",
        "\n",
        "\n",
        "This is an iPython Notebook. You can edit the cells to answer the prompts. Feel free to add more cells as needed. Use \"Markdown\" cells writing text. When you are finished, use the Explorer pane to find this file. Right click and select download. Upload your submission on Gradescope!\n",
        "\n",
        "\n",
        "## Question 1\n",
        "\n",
        "### Q1.a\n",
        "\n",
        "Demonstrate using a Jupyter notebook.\n",
        "\n",
        "Create a new code cell after this cell and create a variable called `password` that contains the string \"chinchilla\" as its only item. Then run the cell. \n",
        "\n",
        "---\n"
      ]
    },
    {
      "cell_type": "code",
      "execution_count": 1,
      "metadata": {},
      "outputs": [],
      "source": [
        "password = \"chinchilla\""
      ]
    },
    {
      "cell_type": "markdown",
      "metadata": {},
      "source": [
        "\n",
        "Now create another code cell. In this one enter only the word `password` and run the cell. \n",
        "\n",
        "----\n"
      ]
    },
    {
      "cell_type": "code",
      "execution_count": 3,
      "metadata": {},
      "outputs": [
        {
          "data": {
            "text/plain": [
              "'chinchilla'"
            ]
          },
          "execution_count": 3,
          "metadata": {},
          "output_type": "execute_result"
        }
      ],
      "source": [
        "password"
      ]
    },
    {
      "cell_type": "markdown",
      "metadata": {},
      "source": [
        "The two cells behave differently because the first cell is declaring a variable, and the second cell is calling the variable \n",
        "---\n"
      ]
    },
    {
      "cell_type": "markdown",
      "metadata": {},
      "source": [
        "\n",
        "Now create a cell that creates the `password` variable on one line and then has only the word `password` on the next line. Run the cell. Create another text cell after that one and explain how you can use the behavior you are seeing here to show your results on homework assignments.\n",
        "\n",
        "### Q1.b\n",
        "\n",
        "In the rest of this homework, we are going to write some code related to password security. \n",
        "\n",
        "Suppose a website stores passwords in plain text. The user will supply a password, and the website will store it in a variable called `attempt`.\n",
        "\n",
        "Write a function that takes in the `attempt` and the `password` and returns `True` if they are the same and `False` otherwise.\n",
        "\n",
        "* Verify (show in code) that your function works by calling it with the password \"chinchilla\" and the attempt \"chinchilla\".\n",
        "* Verify that your function works by calling it with the password \"chinchilla\" and the attempt \"Chinchilla\".\n",
        "\n",
        "Use comments to explain what you expect to see in the output of your function from previous two applications of your function."
      ]
    },
    {
      "cell_type": "code",
      "execution_count": 6,
      "metadata": {},
      "outputs": [
        {
          "data": {
            "text/plain": [
              "'When I write my answers, I can use a variable to store my answer, and then call the variable to display my answer'"
            ]
          },
          "execution_count": 6,
          "metadata": {},
          "output_type": "execute_result"
        }
      ],
      "source": [
        "password = \"chinchilla\"\n",
        "password \n",
        "answer = \"When I write my answers, I can use a variable to store my answer, and then call the variable to display my answer\"\n",
        "answer"
      ]
    },
    {
      "cell_type": "markdown",
      "metadata": {},
      "source": [
        "### Q1.c\n",
        "\n",
        "Suppose we have a **dictionary** of users and their passwords. The keys are the usernames and the values are the passwords. \n",
        "\n",
        "Here are several users and their passwords:\n",
        "\n",
        "| Username | Password |\n",
        "|----------|----------|\n",
        "| alice    | chinchilla |\n",
        "| bob      | 123456 |\n",
        "| charlie  | password |\n",
        "\n",
        "Create a dictionary called `users` that contains the above information.\n",
        "\n",
        "Now write a function that takes in a `username` and a `password` and returns `True` if the `username` is in the `users` dictionary and the `password` matches the password in the dictionary. Otherwise, it should return `False`.\n",
        "\n",
        "* Verify that your function works by calling it with the username \"alice\" and the password \"chinchilla\".\n",
        "* Verify that your function works by calling it with the username \"alice\" and the password \"Chinchilla\".\n",
        "* Verify that your function works by calling it with the username \"bobby\" and the password \"123456\".\n",
        "\n",
        "Again, use comments to explain what you expect to see in the output of your function from previous three applications of your function.\n",
        "\n",
        "To get you started, here is a little helper function that will return `True` if a key is in a dictionary and `False` otherwise."
      ]
    },
    {
      "cell_type": "code",
      "execution_count": 25,
      "metadata": {},
      "outputs": [],
      "source": [
        "def key_in_dict(key, d):\n",
        "    return key in d"
      ]
    },
    {
      "cell_type": "markdown",
      "metadata": {},
      "source": [
        "Note: think about how you can use `if` statements to help you (or ask the AI assistant for help).\n",
        "\n",
        "\n",
        "### Q1.d\n",
        "\n",
        "Generally, we wouldn't want to keep strings as plain text. A frequent strategy is to use a [crypographic hash function](https://en.wikipedia.org/wiki/Cryptographic_hash_function) to make the plain text password unreadable. A hashing function will replace the input with a different string or number. It is very difficult to go backwards from the hashed value to the original string, but every time we hash, we get the same value.\n",
        "\n",
        "Use the `hash2` function on the password. Demonstrate that each time we use it we get the same value by calling it twice (remember that only the last line of a cell will print out). You answer should have an explicit `True` value as the output."
      ]
    },
    {
      "cell_type": "code",
      "execution_count": 26,
      "metadata": {},
      "outputs": [],
      "source": [
        "import hashlib\n",
        "\n",
        "def hash(x):\n",
        "  return hashlib.sha256(x.encode('utf-8')).hexdigest()"
      ]
    },
    {
      "cell_type": "markdown",
      "metadata": {},
      "source": [
        "### Q1.e\n",
        "\n",
        "If a list of passwords were stolen, the malicious actors might be able to undo the hashing by guessing common words. This called a dictionary attack, as each word (and often combinations of common words and other characters) is hashed and then compared to the stolen list of passwords to see if it is present.\n"
      ]
    },
    {
      "cell_type": "code",
      "execution_count": 27,
      "metadata": {},
      "outputs": [
        {
          "data": {
            "text/plain": [
              "'b00ef262afae566b51f740124a6b12d982a2cff1bbf2ab5632cb548e98da6feb'"
            ]
          },
          "execution_count": 27,
          "metadata": {},
          "output_type": "execute_result"
        }
      ],
      "source": [
        "hash(\"wolverine\")"
      ]
    },
    {
      "cell_type": "code",
      "execution_count": 28,
      "metadata": {},
      "outputs": [],
      "source": [
        "stolen_password = 'b00ef262afae566b51f740124a6b12d982a2cff1bbf2ab5632cb548e98da6feb'"
      ]
    },
    {
      "cell_type": "markdown",
      "metadata": {},
      "source": [
        "Hash the following three words to see if one of them is the stolen password. Use `==` to evaluate if the hashed version is the same as the stolen password hash. Use a for loop or list comprehension to avoid repeating yourself. Can we guess the password?\n",
        "\n",
        "* badger\n",
        "* wolverine\n",
        "* jaguar"
      ]
    },
    {
      "cell_type": "markdown",
      "metadata": {},
      "source": [
        "### Q1.f\n",
        "\n",
        "A better way to protect passwords is to add a \"salt\" to all user's passwords on a given site. The salt is a secret string that is prepended to each password *before* hashing.\n",
        "\n",
        "Complete the function below that combines the `salt` with the supplied `password` to strengthen it. Demonstrate that just hashing the correct password is insufficient to guess the password if you do not know the salt as well (again use `==`)."
      ]
    },
    {
      "cell_type": "code",
      "execution_count": 29,
      "metadata": {},
      "outputs": [],
      "source": [
        "def salted_hash(password):\n",
        "  salt = \"zoology\"\n",
        "  return 0 # replace 0 with the salted hash\n",
        "\n",
        "# compute the salted and hashed version of the password \"cardinal\"\n",
        "# demonstrate that we cannot guess without the salt."
      ]
    },
    {
      "cell_type": "markdown",
      "metadata": {},
      "source": [
        "## Question 2\n",
        "\n",
        "### Q2.a\n",
        "\n",
        "Run the code in the following cell. What does the `%` operator do?"
      ]
    },
    {
      "cell_type": "code",
      "execution_count": 30,
      "metadata": {},
      "outputs": [
        {
          "data": {
            "text/plain": [
              "[1, 0, 1]"
            ]
          },
          "execution_count": 30,
          "metadata": {},
          "output_type": "execute_result"
        }
      ],
      "source": [
        "[3 % 2, 4 % 2, 5 % 2]"
      ]
    },
    {
      "cell_type": "markdown",
      "metadata": {},
      "source": [
        "### Q2.b\n",
        "\n",
        "Complete the following function that will compute if an input is even or odd:"
      ]
    },
    {
      "cell_type": "code",
      "execution_count": 31,
      "metadata": {},
      "outputs": [],
      "source": [
        "def is_odd(num):\n",
        "    return False"
      ]
    },
    {
      "cell_type": "code",
      "execution_count": 32,
      "metadata": {},
      "outputs": [
        {
          "data": {
            "text/plain": [
              "False"
            ]
          },
          "execution_count": 32,
          "metadata": {},
          "output_type": "execute_result"
        }
      ],
      "source": [
        "is_odd(16) # Should return False"
      ]
    },
    {
      "cell_type": "code",
      "execution_count": 33,
      "metadata": {},
      "outputs": [
        {
          "data": {
            "text/plain": [
              "False"
            ]
          },
          "execution_count": 33,
          "metadata": {},
          "output_type": "execute_result"
        }
      ],
      "source": [
        "is_odd(17) # Should return True"
      ]
    },
    {
      "cell_type": "markdown",
      "metadata": {},
      "source": [
        "### Q2.c\n",
        "\n",
        "Here is some input data:"
      ]
    },
    {
      "cell_type": "code",
      "execution_count": 34,
      "metadata": {},
      "outputs": [],
      "source": [
        "some_numbers = [91, 88, 38, 103, 199372, 3, 4945, 20098]"
      ]
    },
    {
      "cell_type": "markdown",
      "metadata": {},
      "source": [
        "Write a **for loop** to select just the odd numbers of `some_numbers`. Make sure to use your function from part (b). Print out your result.\n",
        "\n",
        "\n",
        "### Q2d\n",
        "\n",
        "Using a **list comprehension** select just the odd elements of `some_numbers`, convert them to strings (using the `str` function), and then `hash2` them. **Do not** use any results from part (c) in your solution.\n",
        "\n",
        "\n",
        "### Q2e\n",
        "\n",
        "For a particular website, suppose users could only choose positive, whole numbers as passwords, and the site neglected use salting to make the numbers harder to guess.\n",
        "\n",
        "Here is an example stolen value."
      ]
    },
    {
      "cell_type": "code",
      "execution_count": 35,
      "metadata": {},
      "outputs": [
        {
          "data": {
            "text/plain": [
              "'5cf4e26bd3d87da5e03f80a43a64f1220a1f4ba9e1d6348caea83c06353c3f39'"
            ]
          },
          "execution_count": 35,
          "metadata": {},
          "output_type": "execute_result"
        }
      ],
      "source": [
        "hash(str(206))"
      ]
    },
    {
      "cell_type": "code",
      "execution_count": 36,
      "metadata": {
        "executionInfo": {
          "elapsed": 150,
          "status": "ok",
          "timestamp": 1707340720865,
          "user": {
            "displayName": "Sang Hoo Kook",
            "userId": "10303743989712676976"
          },
          "user_tz": 300
        }
      },
      "outputs": [],
      "source": [
        "hashed_number = '5cf4e26bd3d87da5e03f80a43a64f1220a1f4ba9e1d6348caea83c06353c3f39'"
      ]
    },
    {
      "cell_type": "markdown",
      "metadata": {},
      "source": [
        "Carry out a dictionary attach by implementing the following:\n",
        "\n",
        "* Write a function that takes a number as an input, and returns True if that number (after being coverted to a string) hashes to the `hashed_number` value.\n",
        "* Use this function to find out if value in 0 to 100000 was the password. (Hint: use the `range(a, b)` function which gives back a sequence of values from a to (b - 1)).\n"
      ]
    }
  ],
  "metadata": {
    "kernelspec": {
      "display_name": "Python 3",
      "language": "python",
      "name": "python3"
    },
    "language_info": {
      "codemirror_mode": {
        "name": "ipython",
        "version": 3
      },
      "file_extension": ".py",
      "mimetype": "text/x-python",
      "name": "python",
      "nbconvert_exporter": "python",
      "pygments_lexer": "ipython3",
      "version": "3.12.1"
    }
  },
  "nbformat": 4,
  "nbformat_minor": 4
}
